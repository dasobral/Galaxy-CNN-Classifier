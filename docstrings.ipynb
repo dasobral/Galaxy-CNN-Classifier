{
 "cells": [
  {
   "cell_type": "code",
   "execution_count": 7,
   "metadata": {},
   "outputs": [],
   "source": [
    "import os\n",
    "import ast\n",
    "\n",
    "def extract_docstrings(filepath, output_file):\n",
    "    with open(filepath, 'r') as file:\n",
    "        tree = ast.parse(file.read())\n",
    "\n",
    "    docstrings = []\n",
    "    for node in ast.walk(tree):\n",
    "        if isinstance(node, ast.FunctionDef) or isinstance(node, ast.ClassDef):\n",
    "            if node.body and isinstance(node.body[0], ast.Expr) and isinstance(node.body[0].value, ast.Str):\n",
    "                docstrings.append(node.name)\n",
    "                docstrings.append(node.body[0].value.s)\n",
    "                docstrings.append('')\n",
    "\n",
    "    with open(output_file, 'w') as file:\n",
    "        file.write('\\n'.join(docstrings))\n",
    "\n",
    "# Provide the filepath of your code file\n",
    "code_filepath = 'custom_losses.py'\n",
    "\n",
    "# Provide the filepath for the output file\n",
    "output_filepath = 'custom_losses.txt'\n",
    "\n",
    "# Extract and write the docstrings to the output file\n",
    "extract_docstrings(code_filepath, output_filepath)"
   ]
  },
  {
   "cell_type": "code",
   "execution_count": null,
   "metadata": {},
   "outputs": [],
   "source": []
  }
 ],
 "metadata": {
  "kernelspec": {
   "display_name": "tflow",
   "language": "python",
   "name": "python3"
  },
  "language_info": {
   "codemirror_mode": {
    "name": "ipython",
    "version": 3
   },
   "file_extension": ".py",
   "mimetype": "text/x-python",
   "name": "python",
   "nbconvert_exporter": "python",
   "pygments_lexer": "ipython3",
   "version": "3.10.9"
  },
  "orig_nbformat": 4
 },
 "nbformat": 4,
 "nbformat_minor": 2
}
